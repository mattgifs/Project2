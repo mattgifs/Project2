{
 "cells": [
  {
   "cell_type": "code",
   "execution_count": 2,
   "id": "9353b044-f9dc-4fb5-bd3a-3a48795fd3a9",
   "metadata": {},
   "outputs": [],
   "source": [
    "import pandas as pd\n",
    "import numpy as np\n",
    "from pathlib import Path\n",
    "import hvplot.pandas\n",
    "import matplotlib.pyplot as plt\n",
    "from sklearn import svm\n",
    "from sklearn.preprocessing import StandardScaler\n",
    "from pandas.tseries.offsets import DateOffset\n",
    "from sklearn.metrics import classification_report\n",
    "from finta import TA\n",
    "from sklearn.model_selection import train_test_split\n",
    "from sklearn.metrics import confusion_matrix, accuracy_score, classification_report\n",
    "\n"
   ]
  },
  {
   "cell_type": "markdown",
   "id": "b3af3428-020b-4520-8a2a-8d007833c36a",
   "metadata": {
    "tags": []
   },
   "source": [
    "### Initial Data Import and Cleaning"
   ]
  },
  {
   "cell_type": "code",
   "execution_count": null,
   "id": "ac6f0d2e-1827-45ab-bb78-0719b7ac701a",
   "metadata": {},
   "outputs": [],
   "source": [
    "# Read the csv file \n",
    "amzn_df = pd.read_csv(Path(\"Resources/amzn.csv\"))\n",
    "\n",
    "# Convert 'time' column from timestamp (seconds since epoch) to acutal time\n",
    "amzn_df ['time'] = pd.to_datetime(\n",
    "    amzn_df['time'],\n",
    "    unit = 's',\n",
    "    infer_datetime_format=True,\n",
    "    utc=True\n",
    ")    \n",
    "# Convert timezone from UTC to Eastern Time\n",
    "amzn_df['time'] = amzn_df['time'].dt.tz_convert('US/Eastern')\n",
    "\n",
    "# Set 'time' column as the index \n",
    "amzn_df.set_index('time', inplace=True)\n",
    "\n",
    "# Review df\n",
    "amzn_df.head()          "
   ]
  },
  {
   "cell_type": "code",
   "execution_count": null,
   "id": "95bc811a-9fa3-4fc8-8901-cb947aea0a6b",
   "metadata": {},
   "outputs": [],
   "source": [
    "# Filter column and only keep ones needed\n",
    "amzn_df = amzn_df[['open','high','low','close','VWAP','Volume','Volume MA','EMA']]\n",
    "\n",
    "#Rename EMA to 200EMA\n",
    "amzn_df = amzn_df.rename(columns={'EMA':'200EMA'})\n",
    "\n",
    "#Dropping NAN Values \n",
    "amzn_df = amzn_df.dropna()\n",
    "\n",
    "# Review the DataFrame\n",
    "amzn_df.head()"
   ]
  },
  {
   "cell_type": "code",
   "execution_count": null,
   "id": "b570a75e-f12c-49d9-bbaf-085ee6a2d75d",
   "metadata": {
    "tags": []
   },
   "outputs": [],
   "source": [
    "# Read the csv file \n",
    "meta_df = pd.read_csv(Path(\"Resources/meta.csv\"))\n",
    "\n",
    "# Convert 'time' column from timestamp (seconds since epoch) to acutal time\n",
    "meta_df ['time'] = pd.to_datetime(\n",
    "    meta_df['time'],\n",
    "    unit = 's',\n",
    "    infer_datetime_format=True,\n",
    "    utc=True\n",
    ")    \n",
    "# Convert timezone from UTC to Eastern Time\n",
    "meta_df['time'] = meta_df['time'].dt.tz_convert('US/Eastern')\n",
    "\n",
    "# Set 'time' column as the index \n",
    "meta_df.set_index('time', inplace=True)\n",
    "\n",
    "# Review df\n",
    "meta_df.head()"
   ]
  },
  {
   "cell_type": "code",
   "execution_count": null,
   "id": "c55ba8e6-0d2e-4e57-b782-851945ad20db",
   "metadata": {
    "tags": []
   },
   "outputs": [],
   "source": [
    "# Filter column and only keep ones needed\n",
    "meta_df = meta_df[['open','high','low','close','VWAP','Volume','Volume MA','EMA']]\n",
    "\n",
    "#Rename EMA to 200EMA\n",
    "meta_df = meta_df.rename(columns={'EMA':'200EMA'})\n",
    "\n",
    "#Dropping NAN Values \n",
    "meta_df = meta_df.dropna()\n",
    "\n",
    "# Review the DataFrame\n",
    "meta_df.head()"
   ]
  },
  {
   "cell_type": "code",
   "execution_count": null,
   "id": "137e003e-df36-4038-a5be-c01819235d40",
   "metadata": {},
   "outputs": [],
   "source": [
    "# Read the csv file \n",
    "tsla_df = pd.read_csv(Path(\"./Resources/tsla.csv\"))\n",
    "\n",
    "# Convert 'time' column from timestamp (seconds since epoch) to acutal time\n",
    "tsla_df ['time'] = pd.to_datetime(\n",
    "    tsla_df['time'],\n",
    "    unit = 's',\n",
    "    infer_datetime_format=True,\n",
    "    utc=True\n",
    ")    \n",
    "# Convert timezone from UTC to Eastern Time\n",
    "tsla_df['time'] = tsla_df['time'].dt.tz_convert('US/Eastern')\n",
    "\n",
    "# Set 'time' column as the index \n",
    "tsla_df.set_index('time', inplace=True)\n",
    "                      \n",
    "# Review df\n",
    "tsla_df.head()   "
   ]
  },
  {
   "cell_type": "code",
   "execution_count": null,
   "id": "1858c22d-9a3d-49e3-914c-c04287fe3da4",
   "metadata": {},
   "outputs": [],
   "source": [
    "# Filter column and only keep ones needed\n",
    "tsla_df = tsla_df[['open','high','low','close','VWAP','Volume','Volume MA','EMA']]\n",
    "\n",
    "#Rename EMA to 200EMA\n",
    "tsla_df = tsla_df.rename(columns={'EMA':'200EMA'})\n",
    "\n",
    "#Dropping NAN Values \n",
    "tsla_df = tsla_df.dropna()\n",
    "\n",
    "# Review the DataFrame\n",
    "tsla_df.head()"
   ]
  },
  {
   "cell_type": "code",
   "execution_count": null,
   "id": "d117482a-eaa4-49da-b610-98008f50d211",
   "metadata": {
    "tags": []
   },
   "outputs": [],
   "source": [
    "# Read the csv file \n",
    "vix_df = pd.read_csv(Path(\"Resources/vix.csv\"))\n",
    "\n",
    "# Convert 'time' column from timestamp (seconds since epoch) to acutal time\n",
    "vix_df ['time'] = pd.to_datetime(\n",
    "    vix_df['time'],\n",
    "    unit = 's',\n",
    "    infer_datetime_format=True,\n",
    "    utc=True\n",
    ")    \n",
    "# Convert timezone from UTC to Eastern Time\n",
    "vix_df['time'] = vix_df['time'].dt.tz_convert('US/Eastern')\n",
    "\n",
    "# Set 'time' column as the index \n",
    "vix_df.set_index('time', inplace=True)\n",
    "\n",
    "# Calculate VIX EMA \n",
    "vix_df['VIX_40_EMA'] = TA.EMA(vix_df,40)\n",
    "\n",
    "#Remove unnecessary columns\n",
    "vix_df = vix_df[['close','VIX_40_EMA']]\n",
    "\n",
    "#Rename close column\n",
    "vix_df = vix_df.rename(columns={'close':'VIX_close'})\n",
    "\n",
    "# Review df\n",
    "vix_df.head()    "
   ]
  },
  {
   "cell_type": "code",
   "execution_count": null,
   "id": "0e150eec-ee9a-4a91-87ce-672d4c0dc6eb",
   "metadata": {
    "tags": []
   },
   "outputs": [],
   "source": [
    "# Add VIX data to stock dfs\n",
    "AMZN = pd.concat([amzn_df,vix_df],axis=1)\n",
    "META = pd.concat([meta_df,vix_df],axis=1)\n",
    "TSLA = pd.concat([tsla_df,vix_df],axis=1)\n"
   ]
  },
  {
   "cell_type": "code",
   "execution_count": null,
   "id": "e5a5e39b-d08c-4b40-ad10-4c008805da9b",
   "metadata": {
    "tags": []
   },
   "outputs": [],
   "source": [
    "AMZN"
   ]
  },
  {
   "cell_type": "code",
   "execution_count": null,
   "id": "8d43d623-a972-492e-87e7-b69c4fdb65e4",
   "metadata": {
    "tags": []
   },
   "outputs": [],
   "source": [
    "# Define features set\n",
    "X = amzn_df[['open', 'high', 'low', 'close']]\n",
    "X.head()\n"
   ]
  },
  {
   "cell_type": "code",
   "execution_count": null,
   "id": "a347451e-bec4-4beb-8a28-cd4c26e3d360",
   "metadata": {},
   "outputs": [],
   "source": [
    "# Define target vector\n",
    "y = amzn_df[\"'open', 'high', 'low', 'close'\"].ravel()\n",
    "y[:5]"
   ]
  },
  {
   "cell_type": "code",
   "execution_count": null,
   "id": "456d2cdb-01bc-47e5-bee0-301d2d3c59ab",
   "metadata": {},
   "outputs": [],
   "source": [
    "# Splitting into Train and Test sets\n",
    "X_train, X_test, y_train, y_test = train_test_split(X, y, random_state=78)\n"
   ]
  },
  {
   "cell_type": "code",
   "execution_count": null,
   "id": "efa2b652-a425-457d-bad4-f0816efe52fc",
   "metadata": {},
   "outputs": [],
   "source": [
    "# Creating StandardScaler instance\n",
    "scaler = StandardScaler()\n"
   ]
  },
  {
   "cell_type": "code",
   "execution_count": null,
   "id": "23e36a6c-67ea-48ed-9970-01a787b27b01",
   "metadata": {},
   "outputs": [],
   "source": [
    "# Fitting Standard Scaller\n",
    "X_scaler = scaler.fit(X_train)\n"
   ]
  },
  {
   "cell_type": "code",
   "execution_count": null,
   "id": "65869bb7-9ff6-4472-a91c-75cd9cda27d7",
   "metadata": {},
   "outputs": [],
   "source": [
    "# Scaling data\n",
    "X_train_scaled = X_scaler.transform(X_train)\n",
    "X_test_scaled = X_scaler.transform(X_test)\n"
   ]
  },
  {
   "cell_type": "markdown",
   "id": "7c7e499f-f0dd-43ab-8ab4-614a5fc15168",
   "metadata": {
    "tags": []
   },
   "source": [
    "## Fitting the Random Forest Model"
   ]
  },
  {
   "cell_type": "code",
   "execution_count": null,
   "id": "76a1f428-55d1-4ebc-bef6-30b6288f1864",
   "metadata": {},
   "outputs": [],
   "source": [
    "# Create a random forest classifier\n",
    "rf_model = RandomForestClassifier(n_estimators=500, random_state=78)"
   ]
  },
  {
   "cell_type": "code",
   "execution_count": null,
   "id": "0e83bd0a-e999-4ed5-a3c4-68f63e14114c",
   "metadata": {},
   "outputs": [],
   "source": [
    "# Fitting the model\n",
    "rf_model = rf_model.fit(X_train_scaled, y_train)"
   ]
  },
  {
   "cell_type": "markdown",
   "id": "4acb57b6-d0d1-4c2f-ac82-e37f455768f7",
   "metadata": {},
   "source": [
    "## Making Predictions Using the Decsion Tree Model"
   ]
  },
  {
   "cell_type": "code",
   "execution_count": null,
   "id": "2afa39f8-8808-45df-9f2e-166148f5b172",
   "metadata": {},
   "outputs": [],
   "source": [
    "# Making predictions using the testing data\n",
    "predictions = rf_model.predict(X_test_scaled)\n"
   ]
  },
  {
   "cell_type": "markdown",
   "id": "b1e3dfda-8f38-443c-9fb9-02c924a1e15c",
   "metadata": {},
   "source": [
    "## Model Evaluation"
   ]
  },
  {
   "cell_type": "code",
   "execution_count": null,
   "id": "b9305c22-e3ce-4bf0-8299-823a241f7bac",
   "metadata": {},
   "outputs": [],
   "source": [
    "# Calculating the confusion matrix\n",
    "cm = confusion_matrix(y_test, predictions)\n",
    "cm_df = pd.DataFrame(\n",
    "    cm, index=[\"Actual 0\", \"Actual 1\"], columns=[\"Predicted 0\", \"Predicted 1\"]\n",
    ")\n",
    "\n",
    "# Calculating the accuracy score\n",
    "acc_score = accuracy_score(y_test, predictions)\n"
   ]
  },
  {
   "cell_type": "code",
   "execution_count": null,
   "id": "90e7d405-25c8-41ac-9af9-3c61a7cdeb60",
   "metadata": {},
   "outputs": [],
   "source": [
    "# Displaying results\n",
    "print(\"Confusion Matrix\")\n",
    "display(cm_df)\n",
    "print(f\"Accuracy Score : {acc_score}\")\n",
    "print(\"Classification Report\")\n",
    "print(classification_report(y_test, predictions))\n"
   ]
  },
  {
   "cell_type": "markdown",
   "id": "b7786972-69e4-478a-9c8b-878040765bf1",
   "metadata": {},
   "source": [
    "## Feature Importance"
   ]
  },
  {
   "cell_type": "code",
   "execution_count": null,
   "id": "416ce247-e8a3-44e0-8287-bb13840d072f",
   "metadata": {},
   "outputs": [],
   "source": [
    "# Random Forests in sklearn will automatically calculate feature importance\n",
    "importances = rf_model.feature_importances_\n"
   ]
  },
  {
   "cell_type": "code",
   "execution_count": null,
   "id": "c77d35ef-44fa-4352-ab03-ab0a78c2d40e",
   "metadata": {},
   "outputs": [],
   "source": [
    "# We can sort the features by their importance\n",
    "sorted(zip(rf_model.feature_importances_, X.columns), reverse=True)"
   ]
  },
  {
   "cell_type": "markdown",
   "id": "1b5744ac-595d-4c6f-97ea-270d29cd442d",
   "metadata": {
    "tags": []
   },
   "source": [
    "### Trading Algo (Signal Generation)"
   ]
  },
  {
   "cell_type": "code",
   "execution_count": null,
   "id": "b5a8750f-ceb3-438f-ae15-493d324e0560",
   "metadata": {
    "tags": []
   },
   "outputs": [],
   "source": [
    "#set some options for display and troubleshooting\n",
    "pd.set_option(\"display.max_rows\", 2000)\n",
    "pd.set_option(\"display.max_columns\", 2000)\n",
    "pd.set_option(\"display.width\", 1000)"
   ]
  },
  {
   "cell_type": "code",
   "execution_count": null,
   "id": "02874f4f-537d-4e9d-bc39-67d40b0faab5",
   "metadata": {
    "tags": []
   },
   "outputs": [],
   "source": [
    "# Define periods for fast and slow EMAs (triggers)\n",
    "fast_ema = 9\n",
    "slow_ema = 40\n",
    "\n",
    "# Initialize list of ticker dfs for use in for loop\n",
    "ticker_df = [AMZN,META,TSLA]\n",
    "\n",
    "# For each ticker dataframe in the list:\n",
    "for df in ticker_df:\n",
    "    \n",
    "    # Calculate % returns for later use\n",
    "    df['pct_returns'] = df['close'].pct_change()\n",
    "    \n",
    "    # Calculate Fast EMA \n",
    "    df['Fast_EMA'] = TA.EMA(df,fast_ema)\n",
    "    \n",
    "    # Calculate Slow EMA\n",
    "    df['Slow_EMA'] = TA.EMA(df,slow_ema)\n",
    "\n",
    "    # Initialize empty Signal column with 0.0 default value\n",
    "    df['Signal'] = 0.0\n",
    "\n",
    "    # Generate Signal value (\"long if fast_ema > slow_ema\", otherwise flip short)\n",
    "    df['Signal'] = np.where(\n",
    "        df['Slow_EMA'] < df['Fast_EMA'], 1.0, -1.0)\n",
    "    \n",
    "#This loop should not generate Entry/Exit - this will not be needed until after ML predictions    \n",
    "    # Create Entry/Exit column and fill with the differences (trades) from Signal column\n",
    "    #df['Entry/Exit'] = df['Signal'].diff()\n",
    "    \n",
    "    #Drop any NA values\n",
    "    df.dropna()\n"
   ]
  },
  {
   "cell_type": "markdown",
   "id": "be2a0a54-1718-4490-995a-279ce965f155",
   "metadata": {},
   "source": [
    "### Adding Additional Features to Time-Filtered Datasets"
   ]
  },
  {
   "cell_type": "code",
   "execution_count": null,
   "id": "5acc9a27-edf1-4bd5-8942-3f59ba9ea3ad",
   "metadata": {
    "tags": []
   },
   "outputs": [],
   "source": [
    "# Filter each dataframe to 10yr period\n",
    "amzn_df_filt = AMZN.loc['05-2012':'05-2022']\n",
    "meta_df_filt = META.loc['05-2012':'05-2022']\n",
    "tsla_df_filt = TSLA.loc['05-2012':'05-2022']"
   ]
  },
  {
   "cell_type": "code",
   "execution_count": null,
   "id": "d14765a0-ece3-4971-8620-0e3e45c5bb21",
   "metadata": {
    "tags": []
   },
   "outputs": [],
   "source": [
    "tsla_df_filt.head(3)"
   ]
  },
  {
   "cell_type": "code",
   "execution_count": null,
   "id": "c77cd4d5-c18e-487b-8cdf-be45f1c62904",
   "metadata": {},
   "outputs": [],
   "source": []
  }
 ],
 "metadata": {
  "kernelspec": {
   "display_name": "Python 3 (ipykernel)",
   "language": "python",
   "name": "python3"
  },
  "language_info": {
   "codemirror_mode": {
    "name": "ipython",
    "version": 3
   },
   "file_extension": ".py",
   "mimetype": "text/x-python",
   "name": "python",
   "nbconvert_exporter": "python",
   "pygments_lexer": "ipython3",
   "version": "3.10.11"
  }
 },
 "nbformat": 4,
 "nbformat_minor": 5
}
